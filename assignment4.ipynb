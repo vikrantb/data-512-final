{
 "cells": [
  {
   "cell_type": "markdown",
   "metadata": {},
   "source": [
    "# Are there any patterns with COVID deaths\n",
    "\n"
   ]
  },
  {
   "cell_type": "markdown",
   "metadata": {},
   "source": [
    "## Motivation\n",
    "My main motivation of this project is to find any patterns that raise ethical and fairness questions in covid deaths.\n",
    "\n",
    "I think this is important because this will help us provide more better facilities to the people who are more needy. This will also allow other interested researchers to dig in deeper and try to see if there are any inherent issues on why these patterns might exist.\n",
    "We currently do not have an understanding on the way covid deaths are distributed by ethnicity, race, gender, poverty and finally how do they vary based on where you live.\n",
    "\n",
    "I also hope to learn more about the data science process like data joining, cleaning and presenting them in the most understandable way."
   ]
  },
  {
   "cell_type": "markdown",
   "metadata": {},
   "source": [
    "## Data selected for analysis\n",
    "\n",
    "I am planning to use the census data by US government at county level. This contains the demographics information.\n",
    "Below is the way to extract the data\n",
    "\n",
    "https://www.census.gov/data/tables/time-series/demo/popest/2010s-counties-detail.html\n",
    "\n",
    "Click on United States\n",
    "\n",
    "https://www2.census.gov/programs-surveys/popest/datasets/2010-2019/counties/asrh/cc-est2019-alldata.csv\n",
    "\n",
    "\n",
    "Next, I am planning to join this data with the covid deaths at county level\n",
    "\n",
    "https://data.cdc.gov/NCHS/Provisional-COVID-19-Death-Counts-by-County-and-Ra/k8wy-p9cg\n",
    "\n",
    "I would like to observe patterns and dig more into the details.\n",
    "\n",
    "This data is available on public domain\n",
    "\n",
    "This dataset is suitable for my analysis because this is firstly available on public domain and I do not need to worry about copyright issues. Also, this data is at appropriate granularity level. Too high level may not be very useful and too low level maybe difficult to decipher.\n",
    "\n",
    "Few ethical considerations that I would like to derive from here is to understand and confirm if there is really any racial and ethnic influencing factors in the deaths happening. I would like to proceed even further and look at whether these factors are handled better by various states.\n",
    "Actually my plan is to further get the recent election data (which is not yet available) and see whether blue or red states handled these better."
   ]
  },
  {
   "cell_type": "markdown",
   "metadata": {},
   "source": [
    "## Unknowns and dependencies\n",
    "\n",
    "I have not yet validated the data quality and completeness. That is certainly something to look out for.\n",
    "The election data is not yet available. I will look out for that data and then accordingly may change the path if it is not clean.\n",
    "Other concern is that I may really not be able to find any patterns if none exist. Then I would need to think about ways in which I can document the whole process so that it is understandable to everyone."
   ]
  },
  {
   "cell_type": "markdown",
   "metadata": {},
   "source": [
    "# Install requirements\n",
    "Before, we start, please ensure that you have the below requirements.\n",
    "You can install them by uncommenting the below code snippet. It is commented on purpose to allow you of a chance to install the requirements using your preferred package managers"
   ]
  },
  {
   "cell_type": "code",
   "execution_count": 1,
   "metadata": {},
   "outputs": [],
   "source": [
    "# import sys\n",
    "# !{sys.executable} -m pip install requests\n",
    "# !{sys.executable} -m pip install plotly\n",
    "# !{sys.executable} -m pip install psutil\n",
    "# !{sys.executable} -m pip install kaleido\n",
    "# !{sys.executable} -m pip install seaborn\n",
    "# !{sys.executable} -m pip install scipy"
   ]
  },
  {
   "cell_type": "markdown",
   "metadata": {},
   "source": [
    "# Import python dependencies\n",
    "Before we do any processing, we need to import all required libraries for python. These are available on PyPi repository"
   ]
  },
  {
   "cell_type": "code",
   "execution_count": 2,
   "metadata": {},
   "outputs": [],
   "source": [
    "import json\n",
    "import requests\n",
    "import pandas as pd\n",
    "from datetime import datetime\n",
    "import plotly.express as px\n",
    "import seaborn as sns\n",
    "from scipy.stats import ttest_ind\n",
    "import plotly.graph_objects as go\n",
    "from scipy import stats\n",
    "import matplotlib.pyplot as plt"
   ]
  },
  {
   "cell_type": "code",
   "execution_count": null,
   "metadata": {},
   "outputs": [],
   "source": []
  }
 ],
 "metadata": {
  "kernelspec": {
   "display_name": "Python 3",
   "language": "python",
   "name": "python3"
  },
  "language_info": {
   "codemirror_mode": {
    "name": "ipython",
    "version": 3
   },
   "file_extension": ".py",
   "mimetype": "text/x-python",
   "name": "python",
   "nbconvert_exporter": "python",
   "pygments_lexer": "ipython3",
   "version": "3.8.5"
  }
 },
 "nbformat": 4,
 "nbformat_minor": 4
}
